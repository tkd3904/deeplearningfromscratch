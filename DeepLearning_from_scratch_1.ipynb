{
  "nbformat": 4,
  "nbformat_minor": 0,
  "metadata": {
    "colab": {
      "provenance": []
    },
    "kernelspec": {
      "name": "python3",
      "display_name": "Python 3"
    },
    "language_info": {
      "name": "python"
    }
  },
  "cells": [
    {
      "cell_type": "markdown",
      "source": [
        "#파이썬 기초"
      ],
      "metadata": {
        "id": "0DF36ZsQXTax"
      }
    },
    {
      "cell_type": "markdown",
      "source": [
        "#hello world"
      ],
      "metadata": {
        "id": "Op1DOzANYiAJ"
      }
    },
    {
      "cell_type": "code",
      "source": [
        "print(\"hello world!\")"
      ],
      "metadata": {
        "colab": {
          "base_uri": "https://localhost:8080/"
        },
        "id": "wKNyESGJYI66",
        "outputId": "37a26236-bb60-46e4-a54d-62bfa5bbd089"
      },
      "execution_count": null,
      "outputs": [
        {
          "output_type": "stream",
          "name": "stdout",
          "text": [
            "hello world!\n"
          ]
        }
      ]
    },
    {
      "cell_type": "markdown",
      "source": [
        "#산술 연산"
      ],
      "metadata": {
        "id": "X0QanriVXZxf"
      }
    },
    {
      "cell_type": "code",
      "execution_count": null,
      "metadata": {
        "colab": {
          "base_uri": "https://localhost:8080/"
        },
        "id": "d54pdSl1XAoX",
        "outputId": "2466a425-a143-40df-c18e-688f7bf36ae0"
      },
      "outputs": [
        {
          "output_type": "stream",
          "name": "stdout",
          "text": [
            "3\n",
            "-1\n",
            "8\n",
            "2.0\n",
            "9\n"
          ]
        }
      ],
      "source": [
        "print(1+2) #덧셈\n",
        "print(4-5) #뺄셈\n",
        "print(2*4) #곱셈\n",
        "print(4/2) #나눗셈\n",
        "print(3**2) # 거듭제곱"
      ]
    },
    {
      "cell_type": "markdown",
      "source": [
        "#자료형"
      ],
      "metadata": {
        "id": "rokwE_cpX7mr"
      }
    },
    {
      "cell_type": "code",
      "source": [
        "print(type(10))\n",
        "print(type(2.718))\n",
        "print(type(\"hello\"))"
      ],
      "metadata": {
        "colab": {
          "base_uri": "https://localhost:8080/"
        },
        "id": "5L5kNdqrX7DW",
        "outputId": "a800e953-ff87-46eb-9bad-2a0ee5eb8636"
      },
      "execution_count": null,
      "outputs": [
        {
          "output_type": "stream",
          "name": "stdout",
          "text": [
            "<class 'int'>\n",
            "<class 'float'>\n",
            "<class 'str'>\n"
          ]
        }
      ]
    },
    {
      "cell_type": "markdown",
      "source": [
        "#변수"
      ],
      "metadata": {
        "id": "q4_ubBo_ZM33"
      }
    },
    {
      "cell_type": "code",
      "source": [
        "x = 10\n",
        "print(x)\n",
        "print(type(x))\n",
        "\n",
        "x = x + 1\n",
        "print(x)\n",
        "\n",
        "y = 3.14\n",
        "print(y)\n",
        "print(type(y))\n",
        "\n",
        "z = x * y\n",
        "print(z)\n",
        "print(type(z)) #정수와 실수를 곱한 결과는 실수가 되었음(자동형변환)"
      ],
      "metadata": {
        "colab": {
          "base_uri": "https://localhost:8080/"
        },
        "id": "GZ7zZQLkYoro",
        "outputId": "b1d60878-e178-4083-a2f8-8f306156629f"
      },
      "execution_count": null,
      "outputs": [
        {
          "output_type": "stream",
          "name": "stdout",
          "text": [
            "10\n",
            "<class 'int'>\n",
            "11\n",
            "3.14\n",
            "<class 'float'>\n",
            "34.54\n",
            "<class 'float'>\n"
          ]
        }
      ]
    },
    {
      "cell_type": "markdown",
      "source": [
        "#리스트"
      ],
      "metadata": {
        "id": "61DeHaw1ZLUy"
      }
    },
    {
      "cell_type": "code",
      "source": [
        "a = [1,2,3,4,5]\n",
        "print(a) #리스트의 내용 출력\n",
        "\n",
        "print(len(a)) # 리스트의 길이 출력\n",
        "\n",
        "print(a[0]) # 첫 원소에 접근\n",
        "\n",
        "print(a[4]) # 4번째 원소에 접근\n",
        "\n",
        "a[4] = 99\n",
        "\n",
        "print(a) # a의 마지막 원소가 바뀐것을 확인 할 수 있다."
      ],
      "metadata": {
        "colab": {
          "base_uri": "https://localhost:8080/"
        },
        "id": "r9LQp90VZKzG",
        "outputId": "85fdef8a-b5f5-4792-a5f1-24dc0a31808d"
      },
      "execution_count": null,
      "outputs": [
        {
          "output_type": "stream",
          "name": "stdout",
          "text": [
            "[1, 2, 3, 4, 5]\n",
            "5\n",
            "1\n",
            "5\n",
            "[1, 2, 3, 4, 99]\n"
          ]
        }
      ]
    },
    {
      "cell_type": "markdown",
      "source": [
        "슬라이싱"
      ],
      "metadata": {
        "id": "2aqPKRhXaQzo"
      }
    },
    {
      "cell_type": "code",
      "source": [
        "print(a[0:2]) # 인덱스 0부터 2까지 얻기(2번째는 포함하지 않는다!)\n",
        "\n",
        "print(a[1:]) # 인덱스 1부터 끝까지 얻기\n",
        "\n",
        "print(a[:3]) # 처음부터 인덱스 3까지 얻기(3번째는 포함하지 않는다!)\n",
        "\n",
        "print(a[:-1])# 처음부터 마지막 원소의 1개 앞까지 얻기"
      ],
      "metadata": {
        "colab": {
          "base_uri": "https://localhost:8080/"
        },
        "id": "jzqFk4aVaDEO",
        "outputId": "d0d77cb8-53c8-4d2d-ba1b-538acf52a95c"
      },
      "execution_count": null,
      "outputs": [
        {
          "output_type": "stream",
          "name": "stdout",
          "text": [
            "[1, 2]\n",
            "[2, 3, 4, 99]\n",
            "[1, 2, 3]\n",
            "[1, 2, 3, 4]\n"
          ]
        }
      ]
    },
    {
      "cell_type": "markdown",
      "source": [
        "#딕셔너리"
      ],
      "metadata": {
        "id": "IE2ejjyYayn5"
      }
    },
    {
      "cell_type": "code",
      "source": [
        "me = {'height':180} #딕셔너리 생성\n",
        "\n",
        "print(me['height']) #딕셔너리 값에 접근\n",
        "\n",
        "print(me)"
      ],
      "metadata": {
        "colab": {
          "base_uri": "https://localhost:8080/"
        },
        "id": "hAb5oKZaa0aj",
        "outputId": "3f9067a5-40c0-4c26-9048-0ff537e9377b"
      },
      "execution_count": null,
      "outputs": [
        {
          "output_type": "stream",
          "name": "stdout",
          "text": [
            "180\n",
            "{'height': 180}\n"
          ]
        }
      ]
    },
    {
      "cell_type": "code",
      "source": [
        "me['weight'] = 70 # 딕셔너리에 새 원소 추가\n",
        "print(me)"
      ],
      "metadata": {
        "colab": {
          "base_uri": "https://localhost:8080/"
        },
        "id": "xnbb78rKa60z",
        "outputId": "35c5d342-3b39-4214-8531-b84095b03eb2"
      },
      "execution_count": null,
      "outputs": [
        {
          "output_type": "stream",
          "name": "stdout",
          "text": [
            "{'height': 180, 'weight': 70}\n"
          ]
        }
      ]
    },
    {
      "cell_type": "markdown",
      "source": [
        "#Bool"
      ],
      "metadata": {
        "id": "nFbN1qaMbNFT"
      }
    },
    {
      "cell_type": "code",
      "source": [
        "hungry = True # 배가 고프다.\n",
        "sleepy = False\n",
        "\n",
        "print(type(hungry))\n",
        "print(hungry)\n",
        "print(not hungry)\n",
        "print(hungry and sleepy) # 배가 고프다 그리고 졸리지 않다.\n",
        "print(hungry or sleepy) # 배가 고프다 또는 졸리지 않다."
      ],
      "metadata": {
        "colab": {
          "base_uri": "https://localhost:8080/"
        },
        "id": "jkhAZXx_bMVK",
        "outputId": "163b19bb-5239-4b6c-e576-0677a46b0845"
      },
      "execution_count": null,
      "outputs": [
        {
          "output_type": "stream",
          "name": "stdout",
          "text": [
            "<class 'bool'>\n",
            "True\n",
            "False\n",
            "False\n",
            "True\n"
          ]
        }
      ]
    },
    {
      "cell_type": "markdown",
      "source": [
        "#조건문 if"
      ],
      "metadata": {
        "id": "SGs4CWYMgM9O"
      }
    },
    {
      "cell_type": "code",
      "source": [
        "hungry = hungry\n",
        "\n",
        "if hungry:\n",
        "  print(\"im hungry\")\n",
        "else:\n",
        "  print(\"im not hungry\")"
      ],
      "metadata": {
        "colab": {
          "base_uri": "https://localhost:8080/"
        },
        "id": "haGzgFingIui",
        "outputId": "30b1f126-ddde-40da-c197-ae986d7aff06"
      },
      "execution_count": null,
      "outputs": [
        {
          "output_type": "stream",
          "name": "stdout",
          "text": [
            "im not hungry\n"
          ]
        }
      ]
    },
    {
      "cell_type": "markdown",
      "source": [
        "#반복문 for"
      ],
      "metadata": {
        "id": "XYF0FH7KgrWD"
      }
    },
    {
      "cell_type": "code",
      "source": [
        "for i in range(5):\n",
        "  print(i)"
      ],
      "metadata": {
        "colab": {
          "base_uri": "https://localhost:8080/"
        },
        "id": "U3FuNb5ngqKW",
        "outputId": "9f878557-7210-44f2-f4e1-1c17f001d5eb"
      },
      "execution_count": null,
      "outputs": [
        {
          "output_type": "stream",
          "name": "stdout",
          "text": [
            "0\n",
            "1\n",
            "2\n",
            "3\n",
            "4\n"
          ]
        }
      ]
    },
    {
      "cell_type": "code",
      "source": [
        "for i in [1,2, 3, 4,5]:\n",
        "  print(i)"
      ],
      "metadata": {
        "colab": {
          "base_uri": "https://localhost:8080/"
        },
        "id": "DuOgTvwag0NW",
        "outputId": "87c9882a-d73b-4b66-89f1-5b6273773eca"
      },
      "execution_count": null,
      "outputs": [
        {
          "output_type": "stream",
          "name": "stdout",
          "text": [
            "1\n",
            "2\n",
            "3\n",
            "4\n",
            "5\n"
          ]
        }
      ]
    },
    {
      "cell_type": "code",
      "source": [
        "def hello(object):\n",
        "  print(\"hello \" + object + \"!\" )\n",
        "hello(\"cat\")"
      ],
      "metadata": {
        "colab": {
          "base_uri": "https://localhost:8080/"
        },
        "id": "sUkCKzI9qQoG",
        "outputId": "4f91eaaf-385c-4542-fcc0-f4f0fd0b85a6"
      },
      "execution_count": null,
      "outputs": [
        {
          "output_type": "stream",
          "name": "stdout",
          "text": [
            "hello cat!\n"
          ]
        }
      ]
    },
    {
      "cell_type": "markdown",
      "source": [
        "#클래스"
      ],
      "metadata": {
        "id": "Zn4OT4MNsg4u"
      }
    },
    {
      "cell_type": "code",
      "source": [
        "class 클래스 이름:\n",
        "    def __init__(self, 인수, ...): # 생성자\n",
        "        ...\n",
        "    def 메서드 이름 1(self, 인수, ...): # 메서드 1\n",
        "        ...\n",
        "    def 메서드 이름 2(self, 인수, ...): # 메서드 2\n",
        "        ..."
      ],
      "metadata": {
        "id": "gUWvvYEVqsHw"
      },
      "execution_count": null,
      "outputs": []
    },
    {
      "cell_type": "code",
      "source": [
        "class Man:\n",
        "    def __init__(self, name):\n",
        "        self.name = name\n",
        "        print(\"Initialized!\")\n",
        "\n",
        "    def hello(self):\n",
        "        print(\"Hello \" + self.name + \"!\")\n",
        "\n",
        "    def goodbye(self):\n",
        "        print(\"Good-bye \" + self.name + \"!\")"
      ],
      "metadata": {
        "id": "gTnX1t09sj0C"
      },
      "execution_count": null,
      "outputs": []
    },
    {
      "cell_type": "code",
      "source": [
        "m = Man(\"David\")\n",
        "m.hello()\n",
        "m.goodbye()"
      ],
      "metadata": {
        "colab": {
          "base_uri": "https://localhost:8080/"
        },
        "id": "xmuP_begsloc",
        "outputId": "91270bc0-d116-4368-ea37-c3a28ca77fa1"
      },
      "execution_count": null,
      "outputs": [
        {
          "output_type": "stream",
          "name": "stdout",
          "text": [
            "Initialized!\n",
            "Hello David!\n",
            "Good-bye David!\n"
          ]
        }
      ]
    },
    {
      "cell_type": "markdown",
      "source": [
        "#numpy"
      ],
      "metadata": {
        "id": "49Ai6wV6styt"
      }
    },
    {
      "cell_type": "code",
      "source": [
        "import numpy as np #라이브러리 임포트"
      ],
      "metadata": {
        "id": "o0TZarvcsz5W"
      },
      "execution_count": null,
      "outputs": []
    },
    {
      "cell_type": "markdown",
      "source": [
        "넘파이 배열 생성"
      ],
      "metadata": {
        "id": "MmM1hLWws7dv"
      }
    },
    {
      "cell_type": "code",
      "source": [
        "x = np.array([1.0, 2.0, 3.0])\n",
        "print(x)\n",
        "print(type(x))"
      ],
      "metadata": {
        "colab": {
          "base_uri": "https://localhost:8080/"
        },
        "id": "RW00qz2Xs7D_",
        "outputId": "34e6caae-9af8-473b-a63d-603ebd2a5fa6"
      },
      "execution_count": null,
      "outputs": [
        {
          "output_type": "stream",
          "name": "stdout",
          "text": [
            "[1. 2. 3.]\n",
            "<class 'numpy.ndarray'>\n"
          ]
        }
      ]
    },
    {
      "cell_type": "markdown",
      "source": [
        "넘파이 산술연산"
      ],
      "metadata": {
        "id": "l1BhmfUatM_S"
      }
    },
    {
      "cell_type": "code",
      "source": [
        "x = np.array([1.0, 2.0, 3.0])\n",
        "y = np.array([2.0, 4.0, 6.0])\n",
        "\n",
        "x + y"
      ],
      "metadata": {
        "colab": {
          "base_uri": "https://localhost:8080/"
        },
        "id": "iLZ_79afs4_m",
        "outputId": "cfc09daf-fe84-448c-81d4-77ff309301fd"
      },
      "execution_count": null,
      "outputs": [
        {
          "output_type": "execute_result",
          "data": {
            "text/plain": [
              "array([3., 6., 9.])"
            ]
          },
          "metadata": {},
          "execution_count": 45
        }
      ]
    },
    {
      "cell_type": "code",
      "source": [
        "x - y"
      ],
      "metadata": {
        "colab": {
          "base_uri": "https://localhost:8080/"
        },
        "id": "Xw2vs1MjtSc4",
        "outputId": "39db71b5-947a-4f74-a6b8-9b5bc6ec5f29"
      },
      "execution_count": null,
      "outputs": [
        {
          "output_type": "execute_result",
          "data": {
            "text/plain": [
              "array([-1., -2., -3.])"
            ]
          },
          "metadata": {},
          "execution_count": 46
        }
      ]
    },
    {
      "cell_type": "code",
      "source": [
        "x * y"
      ],
      "metadata": {
        "colab": {
          "base_uri": "https://localhost:8080/"
        },
        "id": "FmBuKONmtXly",
        "outputId": "93865c52-22c3-4bf2-d9d3-4032ba62c030"
      },
      "execution_count": null,
      "outputs": [
        {
          "output_type": "execute_result",
          "data": {
            "text/plain": [
              "array([ 2.,  8., 18.])"
            ]
          },
          "metadata": {},
          "execution_count": 47
        }
      ]
    },
    {
      "cell_type": "code",
      "source": [
        "x / y"
      ],
      "metadata": {
        "colab": {
          "base_uri": "https://localhost:8080/"
        },
        "id": "lt_i2aZUtZE8",
        "outputId": "d9917670-3655-452d-950b-bdf59d49c737"
      },
      "execution_count": null,
      "outputs": [
        {
          "output_type": "execute_result",
          "data": {
            "text/plain": [
              "array([0.5, 0.5, 0.5])"
            ]
          },
          "metadata": {},
          "execution_count": 48
        }
      ]
    },
    {
      "cell_type": "markdown",
      "source": [
        "넘파이 n차원 배열"
      ],
      "metadata": {
        "id": "sgh1rhIcuLSX"
      }
    },
    {
      "cell_type": "code",
      "source": [
        "A = np.array([[1, 2], [3, 4]])\n",
        "print(A)\n",
        "print(A.shape)\n",
        "print(A.dtype)"
      ],
      "metadata": {
        "colab": {
          "base_uri": "https://localhost:8080/"
        },
        "id": "hSejZSG4uKsI",
        "outputId": "1809696a-f78e-4fbe-92a7-b41118d288de"
      },
      "execution_count": null,
      "outputs": [
        {
          "output_type": "stream",
          "name": "stdout",
          "text": [
            "[[1 2]\n",
            " [3 4]]\n",
            "(2, 2)\n",
            "int64\n"
          ]
        }
      ]
    },
    {
      "cell_type": "code",
      "source": [
        "B = np.array([[3, 0], [0, 6]])"
      ],
      "metadata": {
        "id": "PveLayzsuZrB"
      },
      "execution_count": null,
      "outputs": []
    },
    {
      "cell_type": "code",
      "source": [
        "A + B"
      ],
      "metadata": {
        "colab": {
          "base_uri": "https://localhost:8080/"
        },
        "id": "vFkJJB-wuazD",
        "outputId": "a38b08e1-8851-4ef5-bd76-2a1633022b1b"
      },
      "execution_count": null,
      "outputs": [
        {
          "output_type": "execute_result",
          "data": {
            "text/plain": [
              "array([[ 4,  2],\n",
              "       [ 3, 10]])"
            ]
          },
          "metadata": {},
          "execution_count": 51
        }
      ]
    },
    {
      "cell_type": "code",
      "source": [
        "A * B"
      ],
      "metadata": {
        "colab": {
          "base_uri": "https://localhost:8080/"
        },
        "id": "eEZfVD5oub4z",
        "outputId": "2b8c6a5c-7e76-4be1-8ef5-3c2081eaf0d2"
      },
      "execution_count": null,
      "outputs": [
        {
          "output_type": "execute_result",
          "data": {
            "text/plain": [
              "array([[ 3,  0],\n",
              "       [ 0, 24]])"
            ]
          },
          "metadata": {},
          "execution_count": 52
        }
      ]
    },
    {
      "cell_type": "code",
      "source": [
        "A * 10"
      ],
      "metadata": {
        "colab": {
          "base_uri": "https://localhost:8080/"
        },
        "id": "D37w2FUSufR7",
        "outputId": "d5d229ee-e527-41a8-cfab-d4f6a5272803"
      },
      "execution_count": null,
      "outputs": [
        {
          "output_type": "execute_result",
          "data": {
            "text/plain": [
              "array([[10, 20],\n",
              "       [30, 40]])"
            ]
          },
          "metadata": {},
          "execution_count": 53
        }
      ]
    },
    {
      "cell_type": "markdown",
      "source": [
        "브로드캐스트"
      ],
      "metadata": {
        "id": "34ukS2oTukSS"
      }
    },
    {
      "cell_type": "code",
      "source": [
        "A = np.array([[1, 2], [3, 4]]) # 형상이 다른 배열끼리도 계산 가능\n",
        "B = np.array([10, 20])\n",
        "A * B"
      ],
      "metadata": {
        "colab": {
          "base_uri": "https://localhost:8080/"
        },
        "id": "aGSNlkCLumRE",
        "outputId": "37d37686-0d7b-4cf7-a239-b41c8578d775"
      },
      "execution_count": null,
      "outputs": [
        {
          "output_type": "execute_result",
          "data": {
            "text/plain": [
              "array([[10, 40],\n",
              "       [30, 80]])"
            ]
          },
          "metadata": {},
          "execution_count": 54
        }
      ]
    },
    {
      "cell_type": "markdown",
      "source": [
        "#원소접근"
      ],
      "metadata": {
        "id": "Vd87-x51wboD"
      }
    },
    {
      "cell_type": "code",
      "source": [
        "X = np.array([[51, 55], [14, 19], [0, 4]])\n",
        "print(X)\n",
        "\n",
        "print(X[0])   # 0행\n",
        "\n",
        "print(X[0][1]) # (0, 1) 위치의 원소"
      ],
      "metadata": {
        "colab": {
          "base_uri": "https://localhost:8080/"
        },
        "id": "MOSB3y_lwdiV",
        "outputId": "144f56a4-8064-4a47-8660-e124b3269df4"
      },
      "execution_count": null,
      "outputs": [
        {
          "output_type": "stream",
          "name": "stdout",
          "text": [
            "[[51 55]\n",
            " [14 19]\n",
            " [ 0  4]]\n",
            "[51 55]\n",
            "55\n"
          ]
        }
      ]
    },
    {
      "cell_type": "code",
      "source": [
        "for row in X:\n",
        "  print(row)  #for문으로 원소 접근"
      ],
      "metadata": {
        "colab": {
          "base_uri": "https://localhost:8080/"
        },
        "id": "BZu-h78twteO",
        "outputId": "eae5b91b-5564-4576-c851-ef5d8fbd5988"
      },
      "execution_count": null,
      "outputs": [
        {
          "output_type": "stream",
          "name": "stdout",
          "text": [
            "[51 55]\n",
            "[14 19]\n",
            "[0 4]\n"
          ]
        }
      ]
    },
    {
      "cell_type": "code",
      "source": [
        "X = X.flatten()  # X를 1차원 배열로 변환(평탄화)\n",
        "print(X)"
      ],
      "metadata": {
        "colab": {
          "base_uri": "https://localhost:8080/"
        },
        "id": "Xqdy8YrDw23x",
        "outputId": "15f81d0b-6bd7-425a-ca7c-9790a42e7176"
      },
      "execution_count": null,
      "outputs": [
        {
          "output_type": "stream",
          "name": "stdout",
          "text": [
            "[51 55 14 19  0  4]\n"
          ]
        }
      ]
    },
    {
      "cell_type": "code",
      "source": [
        "X[np.array([0, 2, 4])]"
      ],
      "metadata": {
        "colab": {
          "base_uri": "https://localhost:8080/"
        },
        "id": "R9f_1rmyw8J3",
        "outputId": "0beca6fe-a2dd-479a-c8c8-a2c3e826dc1e"
      },
      "execution_count": null,
      "outputs": [
        {
          "output_type": "execute_result",
          "data": {
            "text/plain": [
              "array([51, 14,  0])"
            ]
          },
          "metadata": {},
          "execution_count": 58
        }
      ]
    },
    {
      "cell_type": "markdown",
      "source": [
        "이 기법을 사용하면 특정 조건을 만족하는 원소만 얻을 수 있다."
      ],
      "metadata": {
        "id": "tKxtnzs7xHxs"
      }
    },
    {
      "cell_type": "code",
      "source": [
        "X > 15 #x에서 15이상인 값만 구할 수 있음"
      ],
      "metadata": {
        "colab": {
          "base_uri": "https://localhost:8080/"
        },
        "id": "B_TVDzZDw-wZ",
        "outputId": "cc9f11a3-76cb-4b61-9f12-7d2f499bcea0"
      },
      "execution_count": null,
      "outputs": [
        {
          "output_type": "execute_result",
          "data": {
            "text/plain": [
              "array([ True,  True, False,  True, False, False])"
            ]
          },
          "metadata": {},
          "execution_count": 59
        }
      ]
    },
    {
      "cell_type": "code",
      "source": [
        "print(X)\n",
        "X[X>15]"
      ],
      "metadata": {
        "colab": {
          "base_uri": "https://localhost:8080/"
        },
        "id": "YLOhBiuExR2T",
        "outputId": "c23bfd02-ac92-45dd-982c-79832e1057b4"
      },
      "execution_count": null,
      "outputs": [
        {
          "output_type": "stream",
          "name": "stdout",
          "text": [
            "[51 55 14 19  0  4]\n"
          ]
        },
        {
          "output_type": "execute_result",
          "data": {
            "text/plain": [
              "array([51, 55, 19])"
            ]
          },
          "metadata": {},
          "execution_count": 61
        }
      ]
    },
    {
      "cell_type": "markdown",
      "source": [
        "#matplotlib"
      ],
      "metadata": {
        "id": "DW2p4aGCxa1M"
      }
    },
    {
      "cell_type": "markdown",
      "source": [
        "그래프 시각화 모듈"
      ],
      "metadata": {
        "id": "dAhr9zhWxe5l"
      }
    },
    {
      "cell_type": "code",
      "source": [
        "import numpy as np\n",
        "import matplotlib.pyplot as plt"
      ],
      "metadata": {
        "id": "w2EDs5EWxZRm"
      },
      "execution_count": null,
      "outputs": []
    },
    {
      "cell_type": "code",
      "source": [
        "x = np.arange(0, 6, 0.1) # 0에서 6까지 0.1 간격으로 생성\n",
        "y = np.sin(x)\n",
        "\n",
        "# 그래프 그리기\n",
        "plt.plot(x, y)\n",
        "plt.show()"
      ],
      "metadata": {
        "colab": {
          "base_uri": "https://localhost:8080/",
          "height": 430
        },
        "id": "RJbHy15-xds_",
        "outputId": "95516244-ed6c-4a6c-f6c7-d286b8b122b5"
      },
      "execution_count": null,
      "outputs": [
        {
          "output_type": "display_data",
          "data": {
            "text/plain": [
              "<Figure size 640x480 with 1 Axes>"
            ],
            "image/png": "[encoded data removed]"
          },
          "metadata": {}
        }
      ]
    },
    {
      "cell_type": "code",
      "source": [
        "x = np.arange(0, 6, 0.1) # 0에서 6까지 0.1 간격으로 생성\n",
        "y1 = np.sin(x)\n",
        "y2 = np.cos(x)\n",
        "\n",
        "# 그래프 그리기\n",
        "plt.plot(x, y1, label=\"sin\")\n",
        "plt.plot(x, y2, linestyle = \"--\", label=\"cos\") # cos 함수는 점선으로 그리기\n",
        "plt.xlabel(\"x\")        # x축 이름\n",
        "plt.ylabel(\"y\")        # y축 이름\n",
        "plt.title('sin & cos') # 제목\n",
        "plt.legend()\n",
        "plt.show()"
      ],
      "metadata": {
        "colab": {
          "base_uri": "https://localhost:8080/",
          "height": 472
        },
        "id": "w3snzAoExlg2",
        "outputId": "6d22eac1-409e-4f6c-b39b-e04db6cba1d4"
      },
      "execution_count": null,
      "outputs": [
        {
          "output_type": "display_data",
          "data": {
            "text/plain": [
              "<Figure size 640x480 with 1 Axes>"
            ],
            "image/png": "[encoded data removed]"
          },
          "metadata": {}
        }
      ]
    },
    {
      "cell_type": "code",
      "source": [
        "from google.colab import drive\n",
        "drive.mount('/content/drive')"
      ],
      "metadata": {
        "colab": {
          "base_uri": "https://localhost:8080/"
        },
        "id": "3XC61WLRxrw-",
        "outputId": "d0c8d1d6-b5ca-4e20-dc57-39bba8d17efc"
      },
      "execution_count": null,
      "outputs": [
        {
          "output_type": "stream",
          "name": "stdout",
          "text": [
            "Mounted at /content/drive\n"
          ]
        }
      ]
    },
    {
      "cell_type": "code",
      "source": [
        "import matplotlib.pyplot as plt\n",
        "from matplotlib.image import imread"
      ],
      "metadata": {
        "id": "RJdLKRg00RQq"
      },
      "execution_count": null,
      "outputs": []
    },
    {
      "cell_type": "code",
      "source": [
        "img = imread('/content/drive/MyDrive/images/fig 1-5.png') # 이미지 읽어오기(적절한 경로를 설정하세요!)\n",
        "\n",
        "plt.imshow(img)\n",
        "plt.show()"
      ],
      "metadata": {
        "colab": {
          "base_uri": "https://localhost:8080/",
          "height": 435
        },
        "id": "w8Q74KDHxpJz",
        "outputId": "d88d1cc5-3a1f-4467-8704-60abf7efc5c7"
      },
      "execution_count": null,
      "outputs": [
        {
          "output_type": "display_data",
          "data": {
            "text/plain": [
              "<Figure size 640x480 with 1 Axes>"
            ],
            "image/png": "[encoded data removed]"
          },
          "metadata": {}
        }
      ]
    }
  ]
}